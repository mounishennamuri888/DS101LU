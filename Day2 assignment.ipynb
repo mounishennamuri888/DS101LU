{
 "cells": [
  {
   "cell_type": "markdown",
   "metadata": {},
   "source": [
    "Day2"
   ]
  },
  {
   "cell_type": "code",
   "execution_count": 11,
   "metadata": {},
   "outputs": [
    {
     "name": "stdout",
     "output_type": "stream",
     "text": [
      "enter a number1\n",
      "enter a number2\n",
      "enter a number34\n",
      "enter a number56\n",
      "enter a number77\n",
      "enter a number89\n",
      "enter a number566\n",
      "enter a number987\n",
      "enter a number567\n",
      "enter a number3456\n"
     ]
    },
    {
     "data": {
      "text/plain": [
       "[2, 34, 56, 566, 3456]"
      ]
     },
     "execution_count": 11,
     "metadata": {},
     "output_type": "execute_result"
    }
   ],
   "source": [
    "#Q1\n",
    "mylist=[]\n",
    "for i in range(10):\n",
    "    num=int(input(\"enter a number\"))\n",
    "    if(num%2==0):\n",
    "        mylist.append(num)\n",
    "mylist        "
   ]
  },
  {
   "cell_type": "code",
   "execution_count": 15,
   "metadata": {},
   "outputs": [
    {
     "name": "stdout",
     "output_type": "stream",
     "text": [
      "[2, 56, 432]\n",
      "[56, 432]\n"
     ]
    }
   ],
   "source": [
    "#Q2\n",
    "#list comprehensions\n",
    "mylist=[2,45,77,56,59,432]\n",
    "evenlist=[var for var in mylist if(var%2==0)]\n",
    "print(evenlist)\n",
    "#nested if condition\n",
    "list=[var for var in mylist if(var%2==0) if (var%4==0)]\n",
    "print(list)"
   ]
  },
  {
   "cell_type": "code",
   "execution_count": 16,
   "metadata": {},
   "outputs": [
    {
     "name": "stdout",
     "output_type": "stream",
     "text": [
      "enter a number5\n",
      "{0: 0, 1: 1, 2: 4, 3: 9, 4: 16, 5: 25}\n"
     ]
    }
   ],
   "source": [
    "#Q3\n",
    "class my_dictionary(dict): \n",
    "  \n",
    "    # __init__ function \n",
    "    def __init__(self): \n",
    "        self = dict() \n",
    "          \n",
    "    # Function to add key:value \n",
    "    def add(self, key, value): \n",
    "        self[key] = value \n",
    "  \n",
    "# Main Function \n",
    "dict_obj = my_dictionary() \n",
    "num=int(input(\"enter a number\"))\n",
    "for i in range(num+1):\n",
    "    dict_obj.add(i, i**2) \n",
    " \n",
    "  \n",
    "    \n",
    "\n",
    "print(dict_obj) "
   ]
  },
  {
   "cell_type": "code",
   "execution_count": 27,
   "metadata": {},
   "outputs": [],
   "source": [
    "import math"
   ]
  },
  {
   "cell_type": "code",
   "execution_count": 29,
   "metadata": {},
   "outputs": [
    {
     "name": "stdout",
     "output_type": "stream",
     "text": [
      "enter no. of directions4\n",
      "up  = \n",
      " 4\n",
      "down  = \n",
      " 5\n",
      "left  = \n",
      " 3\n",
      "right  = \n",
      " 2\n"
     ]
    },
    {
     "data": {
      "text/plain": [
       "1"
      ]
     },
     "execution_count": 29,
     "metadata": {},
     "output_type": "execute_result"
    }
   ],
   "source": [
    "#Q4\n",
    "user=int(input(\"enter no. of directions\" ))\n",
    "list=['up','down','left','right']\n",
    "up=0\n",
    "down=0\n",
    "left=0\n",
    "right=0\n",
    "for i in range(len(list)):\n",
    "    if i<=(user-1):\n",
    "            print(list[i],' = ')\n",
    "            list[i]=int(input(\" \"))\n",
    "    else: list[i]=0\n",
    "up=list[0]\n",
    "down=list[1]\n",
    "left=list[2]\n",
    "right=list[3]\n",
    "#print(up,down,left,right)\n",
    "y=up-down\n",
    "x=left-right\n",
    "dist=round(math.sqrt(x**2+y**2))\n",
    "dist"
   ]
  },
  {
   "cell_type": "code",
   "execution_count": null,
   "metadata": {},
   "outputs": [],
   "source": []
  }
 ],
 "metadata": {
  "kernelspec": {
   "display_name": "Python 3",
   "language": "python",
   "name": "python3"
  },
  "language_info": {
   "codemirror_mode": {
    "name": "ipython",
    "version": 3
   },
   "file_extension": ".py",
   "mimetype": "text/x-python",
   "name": "python",
   "nbconvert_exporter": "python",
   "pygments_lexer": "ipython3",
   "version": "3.8.3"
  }
 },
 "nbformat": 4,
 "nbformat_minor": 4
}
