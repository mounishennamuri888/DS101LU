{
 "cells": [
  {
   "cell_type": "markdown",
   "metadata": {},
   "source": [
    "Day1"
   ]
  },
  {
   "cell_type": "markdown",
   "metadata": {},
   "source": [
    "#Q1\n",
    "RAINBOW"
   ]
  },
  {
   "cell_type": "code",
   "execution_count": 4,
   "metadata": {},
   "outputs": [
    {
     "data": {
      "text/plain": [
       "\"LET'S UPGRADE\""
      ]
     },
     "execution_count": 4,
     "metadata": {},
     "output_type": "execute_result"
    }
   ],
   "source": [
    "#Q2\n",
    "var=\"LET'S UPGRADE\"\n",
    "var"
   ]
  },
  {
   "cell_type": "code",
   "execution_count": 7,
   "metadata": {},
   "outputs": [
    {
     "name": "stdout",
     "output_type": "stream",
     "text": [
      "enter cp value23\n",
      "enter sp value12\n",
      "loss\n"
     ]
    }
   ],
   "source": [
    "\n",
    "cp=int(input(\"enter cp value\"))\n",
    "sp=int(input(\"enter sp value\"))\n",
    "if sp>cp:\n",
    "    print(\"profit\")\n",
    "elif(sp==cp):\n",
    "    print(\"neither profit nor loss\")\n",
    "else: print(\"loss\")    "
   ]
  },
  {
   "cell_type": "code",
   "execution_count": 9,
   "metadata": {},
   "outputs": [
    {
     "name": "stdout",
     "output_type": "stream",
     "text": [
      "enter value in rupees20\n",
      "20.0 rupees equal to  1600.0  euros\n"
     ]
    }
   ],
   "source": [
    "inr=float(input(\"enter value in rupees\"))\n",
    "euro=inr*80.0\n",
    "print(inr,\"rupees equal to \",euro,\" euros\")"
   ]
  },
  {
   "cell_type": "code",
   "execution_count": null,
   "metadata": {},
   "outputs": [],
   "source": []
  }
 ],
 "metadata": {
  "kernelspec": {
   "display_name": "Python 3",
   "language": "python",
   "name": "python3"
  },
  "language_info": {
   "codemirror_mode": {
    "name": "ipython",
    "version": 3
   },
   "file_extension": ".py",
   "mimetype": "text/x-python",
   "name": "python",
   "nbconvert_exporter": "python",
   "pygments_lexer": "ipython3",
   "version": "3.8.3"
  }
 },
 "nbformat": 4,
 "nbformat_minor": 4
}
