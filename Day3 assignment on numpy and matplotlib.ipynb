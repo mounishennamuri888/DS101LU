{
 "cells": [
  {
   "cell_type": "markdown",
   "metadata": {},
   "source": [
    "Day3"
   ]
  },
  {
   "cell_type": "code",
   "execution_count": 53,
   "metadata": {},
   "outputs": [
    {
     "data": {
      "text/plain": [
       "array([ 2,  5,  8, 11, 14, 17, 20, 23, 26, 29, 32, 35, 38, 41, 44, 47, 50])"
      ]
     },
     "execution_count": 53,
     "metadata": {},
     "output_type": "execute_result"
    }
   ],
   "source": [
    "#Q1\n",
    "import numpy as np\n",
    "arr=np.arange(2,51,3)\n",
    "arr"
   ]
  },
  {
   "cell_type": "code",
   "execution_count": 54,
   "metadata": {},
   "outputs": [
    {
     "data": {
      "text/plain": [
       "array([ 2.,  5.,  8., 11., 14., 17., 20., 23., 26., 29., 32., 35., 38.,\n",
       "       41., 44., 47., 50.])"
      ]
     },
     "execution_count": 54,
     "metadata": {},
     "output_type": "execute_result"
    }
   ],
   "source": [
    "arr1=np.linspace(2,50,17)\n",
    "arr1"
   ]
  },
  {
   "cell_type": "code",
   "execution_count": 55,
   "metadata": {},
   "outputs": [
    {
     "name": "stdout",
     "output_type": "stream",
     "text": [
      "enter values 34\n",
      "enter values 23\n",
      "enter values 12\n",
      "enter values 34\n",
      "enter values 121\n",
      "enter values 343\n",
      "enter values 56\n",
      "enter values 67\n",
      "enter values 794\n",
      "enter values 3\n",
      "array 1 =  [ 34  23  12  34 121]\n",
      "array 2 =  [343  56  67 794   3]\n",
      "final array =  [ 34  23  12  34 121 343  56  67 794   3]\n",
      "sorted final array =  [3, 12, 23, 34, 34, 56, 67, 121, 343, 794]\n"
     ]
    }
   ],
   "source": [
    "#Q2\n",
    "list1=[]\n",
    "list2=[]\n",
    "for i in range(5):\n",
    "    num=int(input(\"enter values \"))\n",
    "    list1.append(num)\n",
    "for i in range(5):\n",
    "    num=int(input(\"enter values \"))\n",
    "    list2.append(num)\n",
    "arr1=np.array(list1)\n",
    "arr2=np.array(list2)\n",
    "print(\"array 1 = \",arr1)\n",
    "print(\"array 2 = \",arr2)\n",
    "final=np.concatenate((arr1,arr2),axis=0)\n",
    "print(\"final array = \",final)\n",
    "print(\"sorted final array = \",sorted(final))"
   ]
  },
  {
   "cell_type": "code",
   "execution_count": 56,
   "metadata": {},
   "outputs": [
    {
     "data": {
      "text/plain": [
       "array([ 1,  2,  3,  4,  6,  5,  7,  8,  9,  8, 11, 12])"
      ]
     },
     "execution_count": 56,
     "metadata": {},
     "output_type": "execute_result"
    }
   ],
   "source": [
    "xx=np.array([[1,2,3],[4,6,5]])\n",
    "yy=np.array([[7,8,9],[8,11,12]])\n",
    "zz=np.concatenate((xx,yy),axis=None)\n",
    "zz"
   ]
  },
  {
   "cell_type": "code",
   "execution_count": 57,
   "metadata": {},
   "outputs": [
    {
     "name": "stdout",
     "output_type": "stream",
     "text": [
      "[[ 1  2  3]\n",
      " [ 4  6  5]\n",
      " [ 7  8  9]\n",
      " [ 8 11 12]]\n",
      "dimensions are  (4, 3)\n",
      "array size =  12\n"
     ]
    }
   ],
   "source": [
    "#Q3\n",
    "xx=np.array([[1,2,3],[4,6,5]])\n",
    "yy=np.array([[7,8,9],[8,11,12]])\n",
    "zz=np.concatenate((xx,yy),axis=0)\n",
    "print(zz)\n",
    "print(\"dimensions are \",zz.shape)\n",
    "print(\"array size = \",zz.size)\n"
   ]
  },
  {
   "cell_type": "code",
   "execution_count": 58,
   "metadata": {},
   "outputs": [
    {
     "name": "stdout",
     "output_type": "stream",
     "text": [
      "[0 1 2 3]\n",
      "(4,)\n",
      "<class 'numpy.ndarray'>\n"
     ]
    }
   ],
   "source": [
    "x1=np.arange(4)\n",
    "print(x1)\n",
    "print(x1.shape)\n",
    "print(type(x1))"
   ]
  },
  {
   "cell_type": "markdown",
   "metadata": {},
   "source": [
    "# using np.reshape()"
   ]
  },
  {
   "cell_type": "code",
   "execution_count": 59,
   "metadata": {},
   "outputs": [
    {
     "name": "stdout",
     "output_type": "stream",
     "text": [
      "[0 1 2 3]\n",
      "-----------------------------\n",
      "(4,)\n",
      "[[0 1 2 3]]\n",
      "(1, 4)\n",
      "-----------------------------\n",
      "transpose of this matrix can be................\n",
      "[[0]\n",
      " [1]\n",
      " [2]\n",
      " [3]]\n"
     ]
    }
   ],
   "source": [
    "x2=x1.reshape((1, 4))\n",
    "print(x1)\n",
    "print('-----------------------------')\n",
    "print(x1.shape)\n",
    "print(x2)\n",
    "print(x2.shape)\n",
    "print('-----------------------------')\n",
    "print(\"transpose of this matrix can be................\")\n",
    "print(x2.reshape((4, 1)))"
   ]
  },
  {
   "cell_type": "markdown",
   "metadata": {},
   "source": [
    "# Using np.expand_dims()"
   ]
  },
  {
   "cell_type": "code",
   "execution_count": 60,
   "metadata": {},
   "outputs": [
    {
     "name": "stdout",
     "output_type": "stream",
     "text": [
      "[0 1 2 3]\n",
      "(4,)\n",
      "-----------------------------\n",
      "[[0 1 2 3]]\n",
      "(1, 4)\n",
      "-----------------------------\n",
      "[[0]\n",
      " [1]\n",
      " [2]\n",
      " [3]]\n"
     ]
    }
   ],
   "source": [
    "x3=np.expand_dims(x1, axis=0)\n",
    "print(x1)\n",
    "print(x1.shape)\n",
    "print('-----------------------------')\n",
    "print(x3)\n",
    "print(x3.shape)\n",
    "print('-----------------------------')\n",
    "print(np.expand_dims(x1, axis=1))"
   ]
  },
  {
   "cell_type": "markdown",
   "metadata": {},
   "source": [
    "\n",
    "# using np.newaxis"
   ]
  },
  {
   "cell_type": "code",
   "execution_count": 61,
   "metadata": {},
   "outputs": [
    {
     "name": "stdout",
     "output_type": "stream",
     "text": [
      "[0 1 2 3]\n",
      "-----------------------------\n",
      "[[0 1 2 3]]\n",
      "-----------------------------\n",
      "[[0 1 2]]\n",
      "-----------------------------\n",
      "[[0]\n",
      " [1]\n",
      " [2]\n",
      " [3]]\n",
      "-----------------------------\n",
      "[[1]\n",
      " [2]]\n"
     ]
    }
   ],
   "source": [
    "print(x1)\n",
    "print('-----------------------------')\n",
    "print(x1[np.newaxis, :] )\n",
    "print('-----------------------------')\n",
    "print(x1[np.newaxis, :3])\n",
    "print('-----------------------------')\n",
    "print(x1[ :,np.newaxis])\n",
    "print('-----------------------------')\n",
    "print(x1[ 1:3,np.newaxis])"
   ]
  },
  {
   "cell_type": "markdown",
   "metadata": {},
   "source": [
    "# Hstack/Vstack"
   ]
  },
  {
   "cell_type": "code",
   "execution_count": 62,
   "metadata": {},
   "outputs": [
    {
     "name": "stdout",
     "output_type": "stream",
     "text": [
      "-----HSTACKING----\n",
      "[[1. 1. 1. 1. 0. 0. 0. 0.]\n",
      " [1. 1. 1. 1. 0. 0. 0. 0.]\n",
      " [1. 1. 1. 1. 0. 0. 0. 0.]\n",
      " [1. 1. 1. 1. 0. 0. 0. 0.]]\n",
      "-----VSTACKING----\n",
      "[[1. 1. 1. 1.]\n",
      " [1. 1. 1. 1.]\n",
      " [1. 1. 1. 1.]\n",
      " [1. 1. 1. 1.]\n",
      " [0. 0. 0. 0.]\n",
      " [0. 0. 0. 0.]\n",
      " [0. 0. 0. 0.]\n",
      " [0. 0. 0. 0.]]\n"
     ]
    }
   ],
   "source": [
    "#Q5\n",
    "arr1=np.ones((4,4))\n",
    "arr2=np.zeros((4,4))\n",
    "print(\"-----HSTACKING----\")\n",
    "print(np.hstack((arr1,arr2)))\n",
    "print(\"-----VSTACKING----\")\n",
    "print(np.vstack((arr1,arr2)))"
   ]
  },
  {
   "cell_type": "code",
   "execution_count": 63,
   "metadata": {},
   "outputs": [
    {
     "data": {
      "text/plain": [
       "(array([11, 22, 33]), array([2, 2, 2], dtype=int64))"
      ]
     },
     "execution_count": 63,
     "metadata": {},
     "output_type": "execute_result"
    }
   ],
   "source": [
    "#Q6\n",
    "a=np.array([11,11,22,22,33,33])\n",
    "np.unique(a, return_counts=True)\n"
   ]
  },
  {
   "cell_type": "code",
   "execution_count": 64,
   "metadata": {},
   "outputs": [
    {
     "name": "stdout",
     "output_type": "stream",
     "text": [
      "[[1. 0. 0. 0.]\n",
      " [0. 1. 0. 0.]\n",
      " [0. 0. 1. 0.]\n",
      " [0. 0. 0. 1.]]\n",
      "------------------\n",
      "[[1. 0.]\n",
      " [0. 1.]]\n"
     ]
    }
   ],
   "source": [
    "eye=np.identity(4)\n",
    "print(eye)\n",
    "print(\"------------------\")\n",
    "print(eye[0:2,0:2])"
   ]
  }
 ],
 "metadata": {
  "kernelspec": {
   "display_name": "Python 3",
   "language": "python",
   "name": "python3"
  },
  "language_info": {
   "codemirror_mode": {
    "name": "ipython",
    "version": 3
   },
   "file_extension": ".py",
   "mimetype": "text/x-python",
   "name": "python",
   "nbconvert_exporter": "python",
   "pygments_lexer": "ipython3",
   "version": "3.8.3"
  }
 },
 "nbformat": 4,
 "nbformat_minor": 4
}
